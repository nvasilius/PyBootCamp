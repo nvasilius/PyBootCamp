{
 "cells": [
  {
   "cell_type": "code",
   "execution_count": null,
   "metadata": {
    "collapsed": false
   },
   "outputs": [],
   "source": [
    "l1=[1,2,3,4,5,6,7,8,9,10]\n",
    "l2=[20,2,3,44,55,36,27,18,29,310]\n",
    "l3=[1,2,3,4,5,6,7,8,9,10]\n",
    "\n",
    "lx =[]\n",
    "\n",
    "l1iter = 0\n",
    "l2iter = 0\n",
    "l3iter = 0\n",
    "\n"
   ]
  },
  {
   "cell_type": "code",
   "execution_count": null,
   "metadata": {
    "collapsed": false
   },
   "outputs": [],
   "source": [
    "l1iter = 0\n",
    "l2iter = 0\n",
    "l3iter = 0\n",
    "\n",
    "for l1_item in l1:\n",
    "    for l2_item in l2:\n",
    "        for l3_item in l3:\n",
    "            print('%3.0f %3.0f %3.0f') %1 %2 %3\n",
    "            #float(l1[l1iter]), float(l2[l2iter]), float(l3[l3iter])\n",
    "            #lx.append([l1[l1iter], l2[l2iter], l3[l3iter]])\n",
    "            l3iter+=1\n",
    "        l2iter+=1\n",
    "        l3iter=0\n",
    "    l1iter+=1\n",
    "    l2iter=0\n",
    "#print(lx)"
   ]
  },
  {
   "cell_type": "code",
   "execution_count": null,
   "metadata": {
    "collapsed": true
   },
   "outputs": [],
   "source": [
    "for l1_item in l1:\n",
    "    for l2_item in l2:\n",
    "        for l3_item in l3:\n",
    "            lx.append([l1[l1iter], l2[l2iter], l3[l3iter]])\n",
    "            l3iter+=1\n",
    "        l2iter+=1\n",
    "    l1iter+=1\n"
   ]
  }
 ],
 "metadata": {
  "anaconda-cloud": {},
  "kernelspec": {
   "display_name": "Python [conda root]",
   "language": "python",
   "name": "conda-root-py"
  },
  "language_info": {
   "codemirror_mode": {
    "name": "ipython",
    "version": 3
   },
   "file_extension": ".py",
   "mimetype": "text/x-python",
   "name": "python",
   "nbconvert_exporter": "python",
   "pygments_lexer": "ipython3",
   "version": "3.5.2"
  }
 },
 "nbformat": 4,
 "nbformat_minor": 1
}
